{
 "cells": [
  {
   "cell_type": "markdown",
   "metadata": {},
   "source": [
    "##### !!! please DO NOT rename this file !!!"
   ]
  },
  {
   "cell_type": "markdown",
   "metadata": {},
   "source": [
    "### 【TaskB】Basic practice of NumPy and Pandas\n",
    "- student id:111524019\n",
    "- name：陳品蓁"
   ]
  },
  {
   "cell_type": "markdown",
   "metadata": {},
   "source": [
    "#### 【Q1】以下是某班級期中考的數學分數，在Q1中你必須完成三件事:\n",
    "    -math = [36,48,52,76,39,42,60,54,49,71]\n",
    "   ##### 1. 將這個list轉換成numpy array.\n",
    "   ##### 2. 學生的分數實在是太悲劇了，請透過開根號乘以十的方式調整學生的分數\n",
    "   ##### 3. 請使用NumPy的統計函式，證明學生的分數在經過步驟2的調整後，的確變好了\n",
    "   #####     並使用註解或是Markdown解釋你的結論。 \n",
    "#### 【Q1】Following is the Math score of midtern exam, there are three things you need to do in question1:\n",
    "    -math = [36,48,52,76,39,42,60,54,49,71]\n",
    "   ##### 1. Try to transfer the list into a numpy array.\n",
    "   ##### 2. Students' grade is a tragedy,  please transfer students' score into the square root and times 10.\n",
    "   ##### 3. Using Statistic function of NumPy to prove that students' score getting better after step2, and use\n",
    "   #####     remark or Markdown to explain your conclusion. \n"
   ]
  },
  {
   "cell_type": "code",
   "execution_count": 13,
   "metadata": {},
   "outputs": [
    {
     "name": "stdout",
     "output_type": "stream",
     "text": [
      "學生調整後成績為 [60.         69.2820323  72.11102551 87.17797887 62.44997998 64.80740698\n",
      " 77.45966692 73.48469228 70.         84.26149773]\n",
      "學生調整前平均為 52.7\n",
      "學生調整前標準差為 12.450301201175819\n",
      "學生調整前中位數為 50.5\n",
      "學生調整後平均為 72.10342805903181\n",
      "學生調整後標準差為 8.431824365819233\n",
      "學生調整後中位數為 71.05551275463989\n"
     ]
    }
   ],
   "source": [
    "import numpy as np\n",
    "mathbefore = np.array([36,48,52,76,39,42,60,54,49,71]) #轉換list為一維陣列\n",
    "mathsqrt=np.sqrt(mathbefore)#成績開根號\n",
    "mathafter=np.multiply(mathsqrt, 10) #成績乘10倍\n",
    "print(\"學生調整後成績為\",mathafter)\n",
    "\n",
    "mathbeforemean=np.mean(mathbefore)#原成績平均\n",
    "mathbeforestd=np.std(mathbefore)#原成績標準差\n",
    "mathbeforemedian=np.median(mathbefore)#原成績中位數\n",
    "mathaftermean=np.mean(mathafter)#調整後成績平均\n",
    "mathafterstd=np.std(mathafter) #調整後成績標準差\n",
    "mathaftermedian=np.median(mathafter)#調整後成績中位數\n",
    "print(\"學生調整前平均為\",mathbeforemean)\n",
    "print(\"學生調整前標準差為\",mathbeforestd)\n",
    "print(\"學生調整前中位數為\",mathbeforemedian)\n",
    "print(\"學生調整後平均為\",mathaftermean)\n",
    "print(\"學生調整後標準差為\",mathafterstd)\n",
    "print(\"學生調整後中位數為\",mathaftermedian)\n",
    "\n",
    "#標準差大代表的意思是學生分數數據離散分布的程度很大，\n",
    "#標準差小代表的意思是學生分數數據離散分布比較集中，\n",
    "#中位數代表，十人成績中排名第五與六的學生平均\n",
    "#而調整分數過後的平均值往上，且標準差變小，中位數往上\n",
    "#代表低分成績往上集中靠攏，且排名第五與第六位學生的平均從未及格變成及格\n",
    "#所以整體學生成績變好了\n"
   ]
  },
  {
   "cell_type": "markdown",
   "metadata": {},
   "source": [
    "#### 【Q2】:以下是某班級期中考的自然跟英文分數，在Q2中你必須完成三件事:\n",
    "    -science = [55,73,64,91,38,25,61,72,85,24]\n",
    "    -english = [42,36,75,77,65,80,35,44,59,66]\n",
    "   ##### 1. 使用你自己的方式調整自然跟英文的分數，並透過註解說明你的調分方式.\n",
    "   ##### 2. 將學生的數學、自然、英文分數轉成「一個」DataFrame.\n",
    "   ##### 3. 使用DataFrame的統計函式證明此班學生比較擅長哪個科目\n",
    "   #####      並使用註解或是Markdown解釋你的結論。\n",
    "#### 【Q2】Following is the Science and  English score of midtern exam, there are three things you need to do in question2:\n",
    "    -science = [55,73,64,91,38,25,61,72,85,24]\n",
    "    -english = [42,36,75,77,65,80,35,44,59,66]\n",
    "   ##### 1. Adjust studens' science  and english score in your own way, and explain how you do by remark.\n",
    "   ##### 2. Transfer sudents' math, science and english into a dataframe.\n",
    "   ##### 3. Using statistic function of DataFrame to prove which subject is the class good at, and use\n",
    "   #####      remark or Markdown to explain your conclusion"
   ]
  },
  {
   "cell_type": "code",
   "execution_count": 36,
   "metadata": {},
   "outputs": [
    {
     "name": "stdout",
     "output_type": "stream",
     "text": [
      "原本的成績表\n",
      "    science  english  math\n",
      "0       55       42    36\n",
      "1       73       36    48\n",
      "2       64       75    52\n",
      "3       91       77    76\n",
      "4       38       65    39\n",
      "5       25       80    42\n",
      "6       61       35    60\n",
      "7       72       44    54\n",
      "8       85       59    49\n",
      "9       24       66    71\n",
      "原本統計資料\n",
      "            平均        標準差   中位數\n",
      "science  58.8  23.408451  62.5\n",
      "english  57.9  17.361836  62.0\n",
      "math     52.7  13.123770  50.5\n",
      "調分後的成績表\n",
      "    science  english  math\n",
      "0       64       62    60\n",
      "1       82       56    72\n",
      "2       73       95    76\n",
      "3      100       97   100\n",
      "4       47       85    63\n",
      "5       34      100    66\n",
      "6       70       55    84\n",
      "7       81       64    78\n",
      "8       94       79    73\n",
      "9       33       86    95\n",
      "調分後統計資料\n",
      "            平均        標準差   中位數\n",
      "science  67.8  23.408451  71.5\n",
      "english  77.9  17.361836  82.0\n",
      "math     76.7  13.123770  74.5\n"
     ]
    }
   ],
   "source": [
    "import pandas as pd\n",
    "grades = {\n",
    "    \"science\": [55,73,64,91,38,25,61,72,85,24],\n",
    "    \"english\": [42,36,75,77,65,80,35,44,59,66],\n",
    "    \"math\": [36,48,52,76,39,42,60,54,49,71]\n",
    "}\n",
    "\n",
    "df = pd.DataFrame(grades)\n",
    "#計算每一個科目的平均、標準差、中位數\n",
    "grades2={\n",
    "    \"平均\":[df[\"science\"].mean(),df[\"english\"].mean(),df[\"math\"].mean()],\n",
    "    \"標準差\":[df[\"science\"].std(),df[\"english\"].std(),df[\"math\"].std()],\n",
    "    \"中位數\":[df[\"science\"].median(),df[\"english\"].median(),df[\"math\"].median()]\n",
    "}\n",
    "#建立新的表放各科目平均標準差中位數\n",
    "df2 = pd.DataFrame(grades2)\n",
    "df2.index = [\"science\", \"english\", \"math\"] #設定索引值的名稱\n",
    "print(\"原本的成績表\\n\",df)\n",
    "print(\"原本統計資料\\n\",df2)\n",
    "\n",
    "#我的調分計算每方式:將每一科的第一名修改為100分，看加了幾分，大家都往上加一樣的分數\n",
    "#首先要找到科目裡面分數最高的是誰，再用100去扣掉，差距為大家固定家的分數\n",
    "mathmax=100-df[\"math\"].max() #.max()找出最大值後，再用100扣掉找出差距\n",
    "englishmax=100-df[\"english\"].max()\n",
    "sciencemax=100-df[\"science\"].max()\n",
    "\n",
    "for i in range(10): #取表中每一個欄位中的值修改為新的分數\n",
    "    df.at[i, \"science\"] = df.at[i, \"science\"]+sciencemax #每一個人都加上同樣的分數 \n",
    "    df.at[i, \"english\"] = df.at[i, \"english\"]+englishmax\n",
    "    df.at[i, \"math\"] = df.at[i, \"math\"]+mathmax\n",
    "grades3={\n",
    "    \"平均\":[df[\"science\"].mean(),df[\"english\"].mean(),df[\"math\"].mean()],\n",
    "    \"標準差\":[df[\"science\"].std(),df[\"english\"].std(),df[\"math\"].std()],\n",
    "    \"中位數\":[df[\"science\"].median(),df[\"english\"].median(),df[\"math\"].median()]\n",
    "}\n",
    "#建立新的表放各科目平均標準差中位數\n",
    "df3 = pd.DataFrame(grades3)\n",
    "df3.index = [\"science\", \"english\", \"math\"] #設定索引值的名稱\n",
    "print(\"調分後的成績表\\n\",df)\n",
    "print(\"調分後統計資料\\n\",df3)\n",
    "\n",
    "#因為y=ax+b 標準差會受係數a，但我的調分方式只有加分所以標準差不會變\n",
    "#可以看到調分過後的science分數是最低的原因是，第一名跟其他人分數差異太多(可以從標準差最大看出)\n",
    "#但從中位數可以看出排名第五名與第六名的平均，原本只有science跟english及格\n",
    "#中位數及格就代表全班有一半以上的人及格\n",
    "#調分過後 中位數最高的是英文，從整體平均看最高的也是英文。"
   ]
  },
  {
   "cell_type": "code",
   "execution_count": null,
   "metadata": {},
   "outputs": [],
   "source": []
  }
 ],
 "metadata": {
  "kernelspec": {
   "display_name": "Python 3",
   "language": "python",
   "name": "python3"
  },
  "language_info": {
   "codemirror_mode": {
    "name": "ipython",
    "version": 3
   },
   "file_extension": ".py",
   "mimetype": "text/x-python",
   "name": "python",
   "nbconvert_exporter": "python",
   "pygments_lexer": "ipython3",
   "version": "3.8.4"
  }
 },
 "nbformat": 4,
 "nbformat_minor": 5
}
