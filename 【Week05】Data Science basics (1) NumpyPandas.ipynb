{
 "cells": [
  {
   "cell_type": "markdown",
   "metadata": {
    "id": "PI5jd_B7KX53"
   },
   "source": [
    "##### add your name and student ID\n",
    "##### Name: 陳品蓁\n",
    "##### ID:111524019\n",
    "\n"
   ]
  },
  {
   "cell_type": "markdown",
   "metadata": {
    "id": "QYnig7XNLJ-Z"
   },
   "source": [
    "# Why numpy & pandas ?\n",
    "### Fast, flexible, and expressive\n",
    "- an efficient multi-dimensional container of generic data\n",
    "### Python is increasingly being used as a scientific language. \n",
    "- Matrix and vector manipulations are extremely important for scientific computations. \n",
    "- Both NumPy and Pandas have emerged to be essential libraries for any scientific computation,\n"
   ]
  },
  {
   "cell_type": "code",
   "execution_count": 1,
   "metadata": {},
   "outputs": [
    {
     "name": "stdout",
     "output_type": "stream",
     "text": [
      "--2022-10-19 01:10:57--  http://ncugo.com/python_edm_2022/week06/\n",
      "Resolving ncugo.com (ncugo.com)... 198.55.121.47\n",
      "Connecting to ncugo.com (ncugo.com)|198.55.121.47|:80... connected.\n",
      "HTTP request sent, awaiting response... 200 OK\n",
      "Length: 1709 (1.7K) [text/html]\n",
      "Saving to: ‘./Week06/index.html.tmp’\n",
      "\n",
      "index.html.tmp      100%[===================>]   1.67K  --.-KB/s    in 0s      \n",
      "\n",
      "2022-10-19 01:10:57 (102 MB/s) - ‘./Week06/index.html.tmp’ saved [1709/1709]\n",
      "\n",
      "Loading robots.txt; please ignore errors.\n",
      "--2022-10-19 01:10:57--  http://ncugo.com/robots.txt\n",
      "Reusing existing connection to ncugo.com:80.\n",
      "HTTP request sent, awaiting response... 404 Not Found\n",
      "2022-10-19 01:10:57 ERROR 404: Not Found.\n",
      "\n",
      "Removing ./Week06/index.html.tmp since it should be rejected.\n",
      "\n",
      "--2022-10-19 01:10:57--  http://ncugo.com/python_edm_2022/week06/?C=N;O=D\n",
      "Reusing existing connection to ncugo.com:80.\n",
      "HTTP request sent, awaiting response... 200 OK\n",
      "Length: 1709 (1.7K) [text/html]\n",
      "Saving to: ‘./Week06/index.html?C=N;O=D.tmp’\n",
      "\n",
      "index.html?C=N;O=D. 100%[===================>]   1.67K  --.-KB/s    in 0s      \n",
      "\n",
      "2022-10-19 01:10:58 (120 MB/s) - ‘./Week06/index.html?C=N;O=D.tmp’ saved [1709/1709]\n",
      "\n",
      "Removing ./Week06/index.html?C=N;O=D.tmp since it should be rejected.\n",
      "\n",
      "--2022-10-19 01:10:58--  http://ncugo.com/python_edm_2022/week06/?C=M;O=A\n",
      "Reusing existing connection to ncugo.com:80.\n",
      "HTTP request sent, awaiting response... 200 OK\n",
      "Length: 1709 (1.7K) [text/html]\n",
      "Saving to: ‘./Week06/index.html?C=M;O=A.tmp’\n",
      "\n",
      "index.html?C=M;O=A. 100%[===================>]   1.67K  --.-KB/s    in 0s      \n",
      "\n",
      "2022-10-19 01:10:58 (128 MB/s) - ‘./Week06/index.html?C=M;O=A.tmp’ saved [1709/1709]\n",
      "\n",
      "Removing ./Week06/index.html?C=M;O=A.tmp since it should be rejected.\n",
      "\n",
      "--2022-10-19 01:10:58--  http://ncugo.com/python_edm_2022/week06/?C=S;O=A\n",
      "Reusing existing connection to ncugo.com:80.\n",
      "HTTP request sent, awaiting response... 200 OK\n",
      "Length: 1709 (1.7K) [text/html]\n",
      "Saving to: ‘./Week06/index.html?C=S;O=A.tmp’\n",
      "\n",
      "index.html?C=S;O=A. 100%[===================>]   1.67K  --.-KB/s    in 0s      \n",
      "\n",
      "2022-10-19 01:10:58 (122 MB/s) - ‘./Week06/index.html?C=S;O=A.tmp’ saved [1709/1709]\n",
      "\n",
      "Removing ./Week06/index.html?C=S;O=A.tmp since it should be rejected.\n",
      "\n",
      "--2022-10-19 01:10:58--  http://ncugo.com/python_edm_2022/week06/?C=D;O=A\n",
      "Reusing existing connection to ncugo.com:80.\n",
      "HTTP request sent, awaiting response... 200 OK\n",
      "Length: 1709 (1.7K) [text/html]\n",
      "Saving to: ‘./Week06/index.html?C=D;O=A.tmp’\n",
      "\n",
      "index.html?C=D;O=A. 100%[===================>]   1.67K  --.-KB/s    in 0s      \n",
      "\n",
      "2022-10-19 01:10:58 (123 MB/s) - ‘./Week06/index.html?C=D;O=A.tmp’ saved [1709/1709]\n",
      "\n",
      "Removing ./Week06/index.html?C=D;O=A.tmp since it should be rejected.\n",
      "\n",
      "--2022-10-19 01:10:58--  http://ncugo.com/python_edm_2022/week06/%C3%A3%C2%80%C2%90TaskC%C3%A3%C2%80%C2%91Handling%20missing%20values.ipynb\n",
      "Reusing existing connection to ncugo.com:80.\n",
      "HTTP request sent, awaiting response... 404 Not Found\n",
      "2022-10-19 01:10:58 ERROR 404: Not Found.\n",
      "\n",
      "--2022-10-19 01:10:58--  http://ncugo.com/python_edm_2022/week06/%e3%80%90TaskC%e3%80%91Handling%20missing%20values.ipynb\n",
      "Reusing existing connection to ncugo.com:80.\n",
      "HTTP request sent, awaiting response... 200 OK\n",
      "Length: 4557 (4.5K)\n",
      "Saving to: ‘./Week06/【TaskC】Handling missing values.ipynb’\n",
      "\n",
      "【TaskC】Handling m 100%[===================>]   4.45K  --.-KB/s    in 0s      \n",
      "\n",
      "2022-10-19 01:10:58 (265 MB/s) - ‘./Week06/【TaskC】Handling missing values.ipynb’ saved [4557/4557]\n",
      "\n",
      "--2022-10-19 01:10:58--  http://ncugo.com/python_edm_2022/week06/%C3%A3%C2%80%C2%90Week06%C3%A3%C2%80%C2%91Data%20Science%20basics%20(2)%20%20NumpyPandas%20-%20cont.ipynb\n",
      "Reusing existing connection to ncugo.com:80.\n",
      "HTTP request sent, awaiting response... 404 Not Found\n",
      "2022-10-19 01:10:58 ERROR 404: Not Found.\n",
      "\n",
      "--2022-10-19 01:10:58--  http://ncugo.com/python_edm_2022/week06/%e3%80%90Week06%e3%80%91Data%20Science%20basics%20(2)%20%20NumpyPandas%20-%20cont.ipynb\n",
      "Reusing existing connection to ncugo.com:80.\n",
      "HTTP request sent, awaiting response... 200 OK\n",
      "Length: 25631 (25K)\n",
      "Saving to: ‘./Week06/【Week06】Data Science basics (2)  NumpyPandas - cont.ipynb’\n",
      "\n",
      "【Week06】Data Scie 100%[===================>]  25.03K  --.-KB/s    in 0.1s     \n",
      "\n",
      "2022-10-19 01:10:59 (191 KB/s) - ‘./Week06/【Week06】Data Science basics (2)  NumpyPandas - cont.ipynb’ saved [25631/25631]\n",
      "\n",
      "--2022-10-19 01:10:59--  http://ncugo.com/python_edm_2022/week06/A_LVR_LAND_A.csv\n",
      "Reusing existing connection to ncugo.com:80.\n",
      "HTTP request sent, awaiting response... 200 OK\n",
      "Length: 14215 (14K) [text/csv]\n",
      "Saving to: ‘./Week06/A_LVR_LAND_A.csv’\n",
      "\n",
      "A_LVR_LAND_A.csv    100%[===================>]  13.88K  --.-KB/s    in 0s      \n",
      "\n",
      "2022-10-19 01:10:59 (170 MB/s) - ‘./Week06/A_LVR_LAND_A.csv’ saved [14215/14215]\n",
      "\n",
      "--2022-10-19 01:10:59--  http://ncugo.com/python_edm_2022/week06/StudentsPerformance.csv\n",
      "Reusing existing connection to ncugo.com:80.\n",
      "HTTP request sent, awaiting response... 200 OK\n",
      "Length: 72036 (70K) [text/csv]\n",
      "Saving to: ‘./Week06/StudentsPerformance.csv’\n",
      "\n",
      "StudentsPerformance 100%[===================>]  70.35K  --.-KB/s    in 0.1s    \n",
      "\n",
      "2022-10-19 01:10:59 (530 KB/s) - ‘./Week06/StudentsPerformance.csv’ saved [72036/72036]\n",
      "\n",
      "--2022-10-19 01:10:59--  http://ncugo.com/python_edm_2022/week06/StudentsPerformance_miss.csv\n",
      "Reusing existing connection to ncugo.com:80.\n",
      "HTTP request sent, awaiting response... 200 OK\n",
      "Length: 60727 (59K) [text/csv]\n",
      "Saving to: ‘./Week06/StudentsPerformance_miss.csv’\n",
      "\n",
      "StudentsPerformance 100%[===================>]  59.30K   201KB/s    in 0.3s    \n",
      "\n",
      "2022-10-19 01:10:59 (201 KB/s) - ‘./Week06/StudentsPerformance_miss.csv’ saved [60727/60727]\n",
      "\n",
      "--2022-10-19 01:10:59--  http://ncugo.com/python_edm_2022/week06/?C=N;O=A\n",
      "Reusing existing connection to ncugo.com:80.\n",
      "HTTP request sent, awaiting response... 200 OK\n",
      "Length: 1709 (1.7K) [text/html]\n",
      "Saving to: ‘./Week06/index.html?C=N;O=A.tmp’\n",
      "\n",
      "index.html?C=N;O=A. 100%[===================>]   1.67K  --.-KB/s    in 0s      \n",
      "\n",
      "2022-10-19 01:11:00 (127 MB/s) - ‘./Week06/index.html?C=N;O=A.tmp’ saved [1709/1709]\n",
      "\n",
      "Removing ./Week06/index.html?C=N;O=A.tmp since it should be rejected.\n",
      "\n",
      "--2022-10-19 01:11:00--  http://ncugo.com/python_edm_2022/week06/?C=M;O=D\n",
      "Reusing existing connection to ncugo.com:80.\n",
      "HTTP request sent, awaiting response... 200 OK\n",
      "Length: 1709 (1.7K) [text/html]\n",
      "Saving to: ‘./Week06/index.html?C=M;O=D.tmp’\n",
      "\n",
      "index.html?C=M;O=D. 100%[===================>]   1.67K  --.-KB/s    in 0s      \n",
      "\n",
      "2022-10-19 01:11:00 (125 MB/s) - ‘./Week06/index.html?C=M;O=D.tmp’ saved [1709/1709]\n",
      "\n",
      "Removing ./Week06/index.html?C=M;O=D.tmp since it should be rejected.\n",
      "\n",
      "--2022-10-19 01:11:00--  http://ncugo.com/python_edm_2022/week06/?C=S;O=D\n",
      "Reusing existing connection to ncugo.com:80.\n",
      "HTTP request sent, awaiting response... 200 OK\n",
      "Length: 1709 (1.7K) [text/html]\n",
      "Saving to: ‘./Week06/index.html?C=S;O=D.tmp’\n",
      "\n",
      "index.html?C=S;O=D. 100%[===================>]   1.67K  --.-KB/s    in 0s      \n",
      "\n",
      "2022-10-19 01:11:00 (109 MB/s) - ‘./Week06/index.html?C=S;O=D.tmp’ saved [1709/1709]\n",
      "\n",
      "Removing ./Week06/index.html?C=S;O=D.tmp since it should be rejected.\n",
      "\n",
      "--2022-10-19 01:11:00--  http://ncugo.com/python_edm_2022/week06/?C=D;O=D\n",
      "Reusing existing connection to ncugo.com:80.\n",
      "HTTP request sent, awaiting response... 200 OK\n",
      "Length: 1709 (1.7K) [text/html]\n",
      "Saving to: ‘./Week06/index.html?C=D;O=D.tmp’\n",
      "\n",
      "index.html?C=D;O=D. 100%[===================>]   1.67K  --.-KB/s    in 0s      \n",
      "\n",
      "2022-10-19 01:11:00 (127 MB/s) - ‘./Week06/index.html?C=D;O=D.tmp’ saved [1709/1709]\n",
      "\n",
      "Removing ./Week06/index.html?C=D;O=D.tmp since it should be rejected.\n",
      "\n",
      "FINISHED --2022-10-19 01:11:00--\n",
      "Total wall clock time: 3.0s\n",
      "Downloaded: 14 files, 188K in 0.6s (336 KB/s)\n"
     ]
    }
   ],
   "source": [
    "!wget -r -nd -np -nH -A \"ipynb\",\"csv\",\"xlsx\" -P \"./Week06\" --trust-server-names --no-check-certificate \"http://ncugo.com/python_edm_2022/week06/\""
   ]
  },
  {
   "cell_type": "markdown",
   "metadata": {},
   "source": [
    "##### An Example:"
   ]
  },
  {
   "cell_type": "code",
   "execution_count": 3,
   "metadata": {},
   "outputs": [],
   "source": [
    "# Creat two lists with fiev students' height and weight \n",
    "# What is BMI for the five students?\n",
    "Height = [159,180,166,178,177]\n",
    "Weight = [60,80,70,68,70]\n",
    "BMI=[]\n",
    "for i in range(5):\n",
    "    BMI.append(Weight[i]/(Height[i]/100)**2)\n"
   ]
  },
  {
   "cell_type": "code",
   "execution_count": 4,
   "metadata": {},
   "outputs": [
    {
     "data": {
      "text/plain": [
       "[23.73323840037973,\n",
       " 24.691358024691358,\n",
       " 25.402816083611555,\n",
       " 21.461936624163616,\n",
       " 22.34351559258195]"
      ]
     },
     "execution_count": 4,
     "metadata": {},
     "output_type": "execute_result"
    }
   ],
   "source": [
    "BMI"
   ]
  },
  {
   "cell_type": "code",
   "execution_count": 9,
   "metadata": {},
   "outputs": [
    {
     "data": {
      "text/plain": [
       "array([23.73, 24.69, 25.4 , 21.46, 22.34])"
      ]
     },
     "execution_count": 9,
     "metadata": {},
     "output_type": "execute_result"
    }
   ],
   "source": [
    "import numpy as np\n",
    "Height = [159,180,166,178,177]\n",
    "Weight = [60,80,70,68,70]\n",
    "H=np.array(Height)\n",
    "W=np.array(Weight)\n",
    "np.around(W/(H/100)**2,2)"
   ]
  },
  {
   "cell_type": "markdown",
   "metadata": {
    "id": "BNM0E_m1JxQ_"
   },
   "source": [
    "### Numpy \n",
    "##### NumPy, which stands for Numerical Python, is a library consisting of multidimensional array objects and a collection of routines for processing those arrays. NumPy is the fundamental package for scientific computing with Python\n",
    "\n",
    "[連結](https://docs.scipy.org/doc/numpy/reference/routines.html)"
   ]
  },
  {
   "cell_type": "code",
   "execution_count": null,
   "metadata": {
    "id": "WrEngNcNJxRA"
   },
   "outputs": [],
   "source": [
    "# Array 之中的每一個元素都必須是相同型態\n",
    "# NumPy is used to work with arrays with the same datatype elements.\n"
   ]
  },
  {
   "cell_type": "code",
   "execution_count": 11,
   "metadata": {
    "id": "bo9MqZrFJxRE"
   },
   "outputs": [
    {
     "name": "stdout",
     "output_type": "stream",
     "text": [
      "[[1 2 3]\n",
      " [4 5 6]]\n",
      "維度Number of Dimensions: 2\n",
      "行列Shape of arrays: (2, 3)\n",
      "個數Number of items in arrays: 6\n",
      "2\n"
     ]
    }
   ],
   "source": [
    "import numpy as np \n",
    "# 使用numpy 採用np簡寫\n",
    "# NumPy package can be referred to as np instead of numpy.\n",
    "\n",
    "array1 = np.array([1,2,3])  #一維的array One Dimension Arrays\n",
    "array2 = np.array([[1,2,3],\n",
    "                   [4,5,6]])  #二維的array Two Dimension Arrays\n",
    "\n",
    "print(array2)\n",
    "print('維度Number of Dimensions:',array2.ndim) \n",
    "print('行列Shape of arrays:',array2.shape) \n",
    "print('個數Number of items in arrays:',array2.size) \n",
    "print(len(array2))"
   ]
  },
  {
   "cell_type": "code",
   "execution_count": 13,
   "metadata": {
    "id": "Da1VnJxIJxRG"
   },
   "outputs": [
    {
     "name": "stdout",
     "output_type": "stream",
     "text": [
      "[ 3  6  9 12 15 18]\n",
      "[0 1 2 3 4 5]\n",
      "[0. 0. 0. 0. 0. 0.]\n",
      "[1 1 1 1 1 1]\n",
      "[0.20573132 0.03460113 0.96896787 0.53713218 0.40904553 0.22172473]\n",
      "[ -3  -5  -7  -9 -11 -13]\n",
      "[False False False False  True  True]\n",
      "[False False False  True False False]\n"
     ]
    }
   ],
   "source": [
    "#One Dimension Arrays\n",
    "import numpy as np\n",
    "a = np.array([3,6,9,12,15,18])\n",
    "b = np.arange(6)  #0-5 int\n",
    "c = np.zeros(6)  #0 float\n",
    "d = np.ones(6, dtype = np.int)  \n",
    "e = np.random.random(6) #float 0-1\n",
    "f = b-a\n",
    "\n",
    "print(a,b,c,d,e,f, sep=\"\\n\")\n",
    "print(f<-9)\n",
    "print(f==-9)"
   ]
  },
  {
   "cell_type": "code",
   "execution_count": 18,
   "metadata": {},
   "outputs": [
    {
     "name": "stdout",
     "output_type": "stream",
     "text": [
      "[ -3  -5  -7  -9 -11 -13]\n",
      "[False False False False  True  True]\n",
      "2\n",
      "[-11 -13]\n"
     ]
    }
   ],
   "source": [
    "#關係運算式=>True/False\n",
    "print(f)\n",
    "print(f<-9)\n",
    "#(1) sum the result\n",
    "print((f<-9).sum())\n",
    "#(2) filter condition\n",
    "print(f[f<-9])\n"
   ]
  },
  {
   "cell_type": "code",
   "execution_count": 21,
   "metadata": {
    "id": "U02KKbV1JxRN"
   },
   "outputs": [
    {
     "name": "stdout",
     "output_type": "stream",
     "text": [
      "[[ 3  6  9]\n",
      " [12 15 18]]\n",
      "[[0 1 2]\n",
      " [3 4 5]]\n",
      "[[0. 0. 0.]\n",
      " [0. 0. 0.]]\n",
      "[[1 1 1]\n",
      " [1 1 1]]\n",
      "[[0.66291435 0.16378348 0.01391528]\n",
      " [0.18294404 0.25197793 0.15948801]]\n",
      "63\n",
      "[18 45]\n",
      "[15 21 27]\n"
     ]
    }
   ],
   "source": [
    "#Two Dimension Arrays\n",
    "import numpy as np\n",
    "a=np.array([[3,6,9],\n",
    "            [12,15,18]])\n",
    "b=np.arange(6).reshape(2,3) \n",
    "c = np.zeros((2,3)) \n",
    "d = np.ones((2,3) , dtype = np.int) \n",
    "e = np.random.random((2,3)) \n",
    "\n",
    "print(a,b,c,d,e, sep=\"\\n\")\n",
    "print(np.sum(a))\n",
    "print(np.sum(a, axis=1))\n",
    "print(np.sum(a, axis=0))"
   ]
  },
  {
   "cell_type": "code",
   "execution_count": 22,
   "metadata": {
    "id": "sXPsJ19uJxRU"
   },
   "outputs": [
    {
     "name": "stdout",
     "output_type": "stream",
     "text": [
      "[[ 2  4  6]\n",
      " [ 8 10 12]]\n",
      "[[0 1 2]\n",
      " [3 4 5]]\n"
     ]
    }
   ],
   "source": [
    "# Opearation of Array加減乘除\n",
    "\n",
    "import numpy as np\n",
    "A=np.array([[2,4,6],[8,10,12]])\n",
    "B=np.arange(6).reshape((2,3)) \n",
    "\n",
    "print(A)\n",
    "print(B)"
   ]
  },
  {
   "cell_type": "code",
   "execution_count": 24,
   "metadata": {
    "id": "6B5mlB5rJxRW"
   },
   "outputs": [
    {
     "data": {
      "text/plain": [
       "array([[2, 3, 4],\n",
       "       [5, 6, 7]])"
      ]
     },
     "execution_count": 24,
     "metadata": {},
     "output_type": "execute_result"
    }
   ],
   "source": [
    "A+B\n",
    "A-B\n"
   ]
  },
  {
   "cell_type": "code",
   "execution_count": 25,
   "metadata": {
    "id": "rXo7W0rQJxRf"
   },
   "outputs": [
    {
     "name": "stdout",
     "output_type": "stream",
     "text": [
      "[[1 1 1]\n",
      " [2 2 2]]\n",
      "[1 1 1 2 2 2]\n"
     ]
    }
   ],
   "source": [
    "# array join 合併\n",
    "import numpy as np\n",
    "A = np.array([1,1,1])\n",
    "B = np.array([2,2,2])\n",
    "         \n",
    "print(np.vstack((A,B))) #vertical\n",
    "print(np.hstack((A,B))) #horizontal\n"
   ]
  },
  {
   "cell_type": "code",
   "execution_count": 27,
   "metadata": {
    "id": "E8PWozDCJxRi"
   },
   "outputs": [
    {
     "name": "stdout",
     "output_type": "stream",
     "text": [
      "[[ 0  1  2  3]\n",
      " [ 4  5  6  7]\n",
      " [ 8  9 10 11]]\n",
      "[array([[0, 1, 2, 3]]), array([[4, 5, 6, 7]]), array([[ 8,  9, 10, 11]])]\n",
      "[array([[0, 1],\n",
      "       [4, 5],\n",
      "       [8, 9]]), array([[ 2,  3],\n",
      "       [ 6,  7],\n",
      "       [10, 11]])]\n"
     ]
    }
   ],
   "source": [
    "# array split 分割\n",
    "import numpy as np\n",
    "a = np.arange(12).reshape((3,4))\n",
    "print(a)\n",
    "print(np.vsplit(a,3)) #vertical up-down\n",
    "print(np.hsplit(a,2)) #horizontal left-right"
   ]
  },
  {
   "cell_type": "code",
   "execution_count": null,
   "metadata": {
    "id": "57-_YSSRJxRl"
   },
   "outputs": [],
   "source": []
  },
  {
   "cell_type": "code",
   "execution_count": null,
   "metadata": {
    "id": "ZbXt7k5bJxRs"
   },
   "outputs": [],
   "source": []
  },
  {
   "cell_type": "markdown",
   "metadata": {
    "id": "KsaOMtl1JxSA"
   },
   "source": [
    "##### ex: N-dimensional array"
   ]
  },
  {
   "cell_type": "code",
   "execution_count": 30,
   "metadata": {
    "id": "bwcN5F2QJxSB"
   },
   "outputs": [
    {
     "data": {
      "text/plain": [
       "array([[159, 180, 166, 178, 177],\n",
       "       [ 60,  80,  70,  68,  70]])"
      ]
     },
     "execution_count": 30,
     "metadata": {},
     "output_type": "execute_result"
    }
   ],
   "source": [
    "# creat a 2-d array with height and weight for the five studetnsnp_2d[0]\n",
    "Height = [159,180,166,178,177]\n",
    "Weight = [60,80,70,68,70]\n",
    "np_2d = np.array([Height,\n",
    "                  Weight])\n",
    "np_2d"
   ]
  },
  {
   "cell_type": "code",
   "execution_count": 35,
   "metadata": {
    "id": "wk1M3jG7JxSE"
   },
   "outputs": [
    {
     "name": "stdout",
     "output_type": "stream",
     "text": [
      "[[159 180 166 178 177]\n",
      " [ 60  80  70  68  70]]\n",
      "[159 180 166 178 177]\n",
      "[60 80 70 68 70]\n",
      "[60 80]\n",
      "[60 80]\n",
      "[[166 178 177]\n",
      " [ 70  68  70]]\n"
     ]
    }
   ],
   "source": [
    "# NumPy Array Indexing\n",
    "# how to select ?\n",
    "print(np_2d)\n",
    "# All students' height\n",
    "print(np_2d[0])\n",
    "# All students' weight\n",
    "print(np_2d[1])\n",
    "# First and Second students' weight\n",
    "print(np_2d[1][:2])\n",
    "print(np_2d[1,:2]) #[row列,columns欄]\n",
    "# Last three students's hight and weight\n",
    "print(np_2d[:,-3:])"
   ]
  },
  {
   "cell_type": "code",
   "execution_count": 38,
   "metadata": {
    "id": "GxvVGQRvJxSK"
   },
   "outputs": [
    {
     "data": {
      "text/plain": [
       "array([[1.        , 0.76462126],\n",
       "       [0.76462126, 1.        ]])"
      ]
     },
     "execution_count": 38,
     "metadata": {},
     "output_type": "execute_result"
    }
   ],
   "source": [
    "# Basic Statistics\n",
    "\n",
    "# mean\n",
    "np.mean(np_2d[1])\n",
    "\n",
    "# median\n",
    "np.median(np_2d[1])\n",
    "\n",
    "# correlation\n",
    "np.corrcoef(np_2d[0],np_2d[1])"
   ]
  },
  {
   "cell_type": "code",
   "execution_count": 40,
   "metadata": {
    "id": "Yay1lpfCJxSQ"
   },
   "outputs": [
    {
     "data": {
      "text/plain": [
       "array([1, 3, 5, 7])"
      ]
     },
     "execution_count": 40,
     "metadata": {},
     "output_type": "execute_result"
    }
   ],
   "source": [
    "# Searching Arrays\n",
    "# You can search an array for a certain value, \n",
    "# and return the indexes that get a match.\n",
    "\n",
    "import numpy as np\n",
    "arr = np.array([1, 2, 3, 4, 5, 6, 7, 8])\n",
    "arr[arr%2 == 1]"
   ]
  },
  {
   "cell_type": "code",
   "execution_count": 41,
   "metadata": {
    "id": "vu6DVsJKJxSU"
   },
   "outputs": [
    {
     "data": {
      "text/plain": [
       "(array([0, 2, 4, 6]),)"
      ]
     },
     "execution_count": 41,
     "metadata": {},
     "output_type": "execute_result"
    }
   ],
   "source": [
    "import numpy as np\n",
    "arr = np.array([1, 2, 3, 4, 5, 6, 7, 8])#01234567位置\n",
    "x = np.where(arr%2 == 1) \n",
    "x"
   ]
  },
  {
   "cell_type": "markdown",
   "metadata": {
    "id": "Q9jaYJ0hJxSb"
   },
   "source": [
    "### Pandas\n",
    "##### Pandas建構於Numpy上，Python做資料分析常⽤的套件\n",
    "- Numpy 是array形式的，沒有欄位名稱或標籤\n",
    "- Pandas 基於Numpy構建的，有列表的標籤。\n",
    "\n",
    "- pandas is an open source, providing high-performance, easy-to-use data structures and data analysis tools for the Python programming language. \n",
    "- Pandas' data analysis and modeling features enable users to carry out their entire data analysis workflow in Python."
   ]
  },
  {
   "cell_type": "markdown",
   "metadata": {
    "id": "b-XUsI6QJxSc"
   },
   "source": [
    "##### Series"
   ]
  },
  {
   "cell_type": "code",
   "execution_count": 42,
   "metadata": {
    "id": "WyXxy5efJxSc"
   },
   "outputs": [
    {
     "name": "stdout",
     "output_type": "stream",
     "text": [
      "0     888\n",
      "1     NCU\n",
      "2     NaN\n",
      "3    3.14\n",
      "4    True\n",
      "dtype: object\n"
     ]
    }
   ],
   "source": [
    "# Series是有index的一維array\n",
    "# Creating a Series by passing a list of values, letting pandas create a default integer index.\n",
    "\n",
    "import pandas as pd\n",
    "import numpy as np\n",
    "\n",
    "# 建立一個 Series 有整數、字串、NAN、浮點數、布林\n",
    "# Creating a Series with integer, string, NAN, float, bool\n",
    "s = pd.Series([888,\"NCU\",np.nan,3.14,True])\n",
    "\n",
    "print(s)\n",
    "# 如果是numpy的array呢?\n",
    "# how about array?"
   ]
  },
  {
   "cell_type": "code",
   "execution_count": 43,
   "metadata": {
    "id": "kuVmGT3KJxSe"
   },
   "outputs": [
    {
     "data": {
      "text/plain": [
       "'NCU'"
      ]
     },
     "execution_count": 43,
     "metadata": {},
     "output_type": "execute_result"
    }
   ],
   "source": [
    "s[1]"
   ]
  },
  {
   "cell_type": "markdown",
   "metadata": {
    "id": "gmMtbayaJxSj"
   },
   "source": [
    "##### DataFrame"
   ]
  },
  {
   "cell_type": "code",
   "execution_count": 52,
   "metadata": {
    "id": "vZuygpO8JxSj"
   },
   "outputs": [
    {
     "name": "stdout",
     "output_type": "stream",
     "text": [
      "          0         1         2\n",
      "0 -0.178789 -2.248773  1.088373\n",
      "1 -0.708099  0.790282  0.693067\n",
      "2  0.265418 -0.617664  0.143759\n",
      "3 -2.376416  0.403096  0.384039\n",
      "4 -1.804673  1.348888 -3.564028\n",
      "5  1.901891 -0.234325  1.222840\n",
      "6 -1.317345  0.045499 -1.769711\n"
     ]
    },
    {
     "data": {
      "text/html": [
       "<div>\n",
       "<style scoped>\n",
       "    .dataframe tbody tr th:only-of-type {\n",
       "        vertical-align: middle;\n",
       "    }\n",
       "\n",
       "    .dataframe tbody tr th {\n",
       "        vertical-align: top;\n",
       "    }\n",
       "\n",
       "    .dataframe thead th {\n",
       "        text-align: right;\n",
       "    }\n",
       "</style>\n",
       "<table border=\"1\" class=\"dataframe\">\n",
       "  <thead>\n",
       "    <tr style=\"text-align: right;\">\n",
       "      <th></th>\n",
       "      <th>0</th>\n",
       "      <th>1</th>\n",
       "      <th>2</th>\n",
       "    </tr>\n",
       "  </thead>\n",
       "  <tbody>\n",
       "    <tr>\n",
       "      <th>0</th>\n",
       "      <td>-0.178789</td>\n",
       "      <td>-2.248773</td>\n",
       "      <td>1.088373</td>\n",
       "    </tr>\n",
       "    <tr>\n",
       "      <th>1</th>\n",
       "      <td>-0.708099</td>\n",
       "      <td>0.790282</td>\n",
       "      <td>0.693067</td>\n",
       "    </tr>\n",
       "    <tr>\n",
       "      <th>2</th>\n",
       "      <td>0.265418</td>\n",
       "      <td>-0.617664</td>\n",
       "      <td>0.143759</td>\n",
       "    </tr>\n",
       "    <tr>\n",
       "      <th>3</th>\n",
       "      <td>-2.376416</td>\n",
       "      <td>0.403096</td>\n",
       "      <td>0.384039</td>\n",
       "    </tr>\n",
       "    <tr>\n",
       "      <th>4</th>\n",
       "      <td>-1.804673</td>\n",
       "      <td>1.348888</td>\n",
       "      <td>-3.564028</td>\n",
       "    </tr>\n",
       "    <tr>\n",
       "      <th>5</th>\n",
       "      <td>1.901891</td>\n",
       "      <td>-0.234325</td>\n",
       "      <td>1.222840</td>\n",
       "    </tr>\n",
       "    <tr>\n",
       "      <th>6</th>\n",
       "      <td>-1.317345</td>\n",
       "      <td>0.045499</td>\n",
       "      <td>-1.769711</td>\n",
       "    </tr>\n",
       "  </tbody>\n",
       "</table>\n",
       "</div>"
      ],
      "text/plain": [
       "          0         1         2\n",
       "0 -0.178789 -2.248773  1.088373\n",
       "1 -0.708099  0.790282  0.693067\n",
       "2  0.265418 -0.617664  0.143759\n",
       "3 -2.376416  0.403096  0.384039\n",
       "4 -1.804673  1.348888 -3.564028\n",
       "5  1.901891 -0.234325  1.222840\n",
       "6 -1.317345  0.045499 -1.769711"
      ]
     },
     "metadata": {},
     "output_type": "display_data"
    }
   ],
   "source": [
    "# Create a DataFrame using a NumPy array\n",
    "df = pd.DataFrame(np.random.randn(7,3))\n",
    "print(df)\n",
    "display(df)"
   ]
  },
  {
   "cell_type": "code",
   "execution_count": 51,
   "metadata": {
    "id": "TlZ0kXQ8JxSm"
   },
   "outputs": [
    {
     "name": "stdout",
     "output_type": "stream",
     "text": [
      "            Break  Lunch  Dinner\n",
      "2017-08-12     60     85      80\n",
      "2017-08-13     60     75      85\n",
      "2017-08-14     90     65      85\n",
      "2017-08-15     90     80      60\n",
      "2017-08-16     85     80      95\n",
      "2017-08-17     85     95      85\n",
      "2017-08-18     85     70      65\n"
     ]
    }
   ],
   "source": [
    "# Create a DataFrame using a NumPy array, with a datetime index\n",
    "eat = np.random.randint(10,size=(7,3))*5+50\n",
    "dates = pd.date_range('20170812',periods=7)\n",
    "df0 = pd.DataFrame(eat)\n",
    "#加上欄位 with columns amd index\n",
    "df1 = pd.DataFrame(eat, index=dates, columns=['Break','Lunch','Dinner'])\n",
    "print(df1)"
   ]
  },
  {
   "cell_type": "code",
   "execution_count": 54,
   "metadata": {},
   "outputs": [
    {
     "data": {
      "text/plain": [
       "2017-08-12     Lunch\n",
       "2017-08-13    Dinner\n",
       "2017-08-14     Break\n",
       "2017-08-15     Break\n",
       "2017-08-16    Dinner\n",
       "2017-08-17     Lunch\n",
       "2017-08-18     Break\n",
       "Freq: D, dtype: object"
      ]
     },
     "execution_count": 54,
     "metadata": {},
     "output_type": "execute_result"
    }
   ],
   "source": [
    "df1.idxmax(axis=1)"
   ]
  },
  {
   "cell_type": "code",
   "execution_count": 55,
   "metadata": {
    "id": "97vc5jcaJxSp"
   },
   "outputs": [
    {
     "name": "stdout",
     "output_type": "stream",
     "text": [
      "   小數float  整數intger     時間time 類別資料category\n",
      "0      1.0         3 2017-08-12         test\n",
      "1      1.0         3 2017-08-12        train\n",
      "2      1.0         3 2017-08-12         test\n",
      "3      1.0         3 2017-08-12        train\n"
     ]
    }
   ],
   "source": [
    "# Create a DataFrame using a dictionary\n",
    "df2 = pd.DataFrame({'小數float' : pd.Series(1,index=list(range(4)),dtype='float32'),\n",
    "                    '整數intger' : np.array([3] * 4,dtype='int32'),\n",
    "                    '時間time' : pd.Timestamp('20170812'),\n",
    "                    '類別資料category' : pd.Categorical([\"test\",\"train\",\"test\",\"train\"]),                     \n",
    "                   }) \n",
    "#字典的key代表甚麼? What is the key for\n",
    "print(df2)"
   ]
  },
  {
   "cell_type": "code",
   "execution_count": 56,
   "metadata": {
    "id": "ChIFRg2FJxSr"
   },
   "outputs": [
    {
     "data": {
      "text/html": [
       "<div>\n",
       "<style scoped>\n",
       "    .dataframe tbody tr th:only-of-type {\n",
       "        vertical-align: middle;\n",
       "    }\n",
       "\n",
       "    .dataframe tbody tr th {\n",
       "        vertical-align: top;\n",
       "    }\n",
       "\n",
       "    .dataframe thead th {\n",
       "        text-align: right;\n",
       "    }\n",
       "</style>\n",
       "<table border=\"1\" class=\"dataframe\">\n",
       "  <thead>\n",
       "    <tr style=\"text-align: right;\">\n",
       "      <th></th>\n",
       "      <th>小數float</th>\n",
       "      <th>整數intger</th>\n",
       "      <th>時間time</th>\n",
       "      <th>類別資料category</th>\n",
       "    </tr>\n",
       "  </thead>\n",
       "  <tbody>\n",
       "    <tr>\n",
       "      <th>0</th>\n",
       "      <td>1.0</td>\n",
       "      <td>3</td>\n",
       "      <td>2017-08-12</td>\n",
       "      <td>test</td>\n",
       "    </tr>\n",
       "    <tr>\n",
       "      <th>1</th>\n",
       "      <td>1.0</td>\n",
       "      <td>3</td>\n",
       "      <td>2017-08-12</td>\n",
       "      <td>train</td>\n",
       "    </tr>\n",
       "    <tr>\n",
       "      <th>2</th>\n",
       "      <td>1.0</td>\n",
       "      <td>3</td>\n",
       "      <td>2017-08-12</td>\n",
       "      <td>test</td>\n",
       "    </tr>\n",
       "    <tr>\n",
       "      <th>3</th>\n",
       "      <td>1.0</td>\n",
       "      <td>3</td>\n",
       "      <td>2017-08-12</td>\n",
       "      <td>train</td>\n",
       "    </tr>\n",
       "  </tbody>\n",
       "</table>\n",
       "</div>"
      ],
      "text/plain": [
       "   小數float  整數intger     時間time 類別資料category\n",
       "0      1.0         3 2017-08-12         test\n",
       "1      1.0         3 2017-08-12        train\n",
       "2      1.0         3 2017-08-12         test\n",
       "3      1.0         3 2017-08-12        train"
      ]
     },
     "execution_count": 56,
     "metadata": {},
     "output_type": "execute_result"
    }
   ],
   "source": [
    "df2"
   ]
  },
  {
   "cell_type": "code",
   "execution_count": 57,
   "metadata": {
    "id": "nTL9rSF7JxSu"
   },
   "outputs": [
    {
     "name": "stdout",
     "output_type": "stream",
     "text": [
      "   小數float  整數intger     時間time 類別資料category\n",
      "0      1.0         3 2017-08-12         test\n",
      "1      1.0         3 2017-08-12        train\n",
      "2      1.0         3 2017-08-12         test\n",
      "3      1.0         3 2017-08-12        train\n",
      "小數float                float32\n",
      "整數intger                 int32\n",
      "時間time          datetime64[ns]\n",
      "類別資料category          category\n",
      "dtype: object\n",
      "Int64Index([0, 1, 2, 3], dtype='int64')\n",
      "       小數float  整數intger\n",
      "count      4.0       4.0\n",
      "mean       1.0       3.0\n",
      "std        0.0       0.0\n",
      "min        1.0       3.0\n",
      "25%        1.0       3.0\n",
      "50%        1.0       3.0\n",
      "75%        1.0       3.0\n",
      "max        1.0       3.0\n",
      "                                0                    1                    2  \\\n",
      "小數float                         1                    1                    1   \n",
      "整數intger                        3                    3                    3   \n",
      "時間time        2017-08-12 00:00:00  2017-08-12 00:00:00  2017-08-12 00:00:00   \n",
      "類別資料category                 test                train                 test   \n",
      "\n",
      "                                3  \n",
      "小數float                         1  \n",
      "整數intger                        3  \n",
      "時間time        2017-08-12 00:00:00  \n",
      "類別資料category                train  \n",
      "  類別資料category     時間time  整數intger  小數float\n",
      "0         test 2017-08-12         3      1.0\n",
      "1        train 2017-08-12         3      1.0\n",
      "2         test 2017-08-12         3      1.0\n",
      "3        train 2017-08-12         3      1.0\n",
      "   小數float  整數intger     時間time 類別資料category\n",
      "0      1.0         3 2017-08-12         test\n",
      "2      1.0         3 2017-08-12         test\n",
      "1      1.0         3 2017-08-12        train\n",
      "3      1.0         3 2017-08-12        train\n"
     ]
    }
   ],
   "source": [
    "#DataFrame的屬性\n",
    "print(df2)\n",
    "print(df2.dtypes)\n",
    "print(df2.index) #print(df2.columns), print(df2.values)\n",
    "print(df2.describe()) #有甚麼要注意的呢? Notice that...\n",
    "\n",
    "print(df2.T)\n",
    "print(df2.sort_index(axis=1, ascending=False))\n",
    "print(df2.sort_values(by='類別資料category'))\n"
   ]
  },
  {
   "cell_type": "code",
   "execution_count": 58,
   "metadata": {
    "id": "AvSs7E-pJxSx"
   },
   "outputs": [
    {
     "data": {
      "text/html": [
       "<div>\n",
       "<style scoped>\n",
       "    .dataframe tbody tr th:only-of-type {\n",
       "        vertical-align: middle;\n",
       "    }\n",
       "\n",
       "    .dataframe tbody tr th {\n",
       "        vertical-align: top;\n",
       "    }\n",
       "\n",
       "    .dataframe thead th {\n",
       "        text-align: right;\n",
       "    }\n",
       "</style>\n",
       "<table border=\"1\" class=\"dataframe\">\n",
       "  <thead>\n",
       "    <tr style=\"text-align: right;\">\n",
       "      <th></th>\n",
       "      <th>小數float</th>\n",
       "      <th>整數intger</th>\n",
       "      <th>時間time</th>\n",
       "      <th>類別資料category</th>\n",
       "    </tr>\n",
       "  </thead>\n",
       "  <tbody>\n",
       "    <tr>\n",
       "      <th>0</th>\n",
       "      <td>1.0</td>\n",
       "      <td>3</td>\n",
       "      <td>2017-08-12</td>\n",
       "      <td>test</td>\n",
       "    </tr>\n",
       "    <tr>\n",
       "      <th>1</th>\n",
       "      <td>1.0</td>\n",
       "      <td>3</td>\n",
       "      <td>2017-08-12</td>\n",
       "      <td>train</td>\n",
       "    </tr>\n",
       "    <tr>\n",
       "      <th>2</th>\n",
       "      <td>1.0</td>\n",
       "      <td>3</td>\n",
       "      <td>2017-08-12</td>\n",
       "      <td>test</td>\n",
       "    </tr>\n",
       "    <tr>\n",
       "      <th>3</th>\n",
       "      <td>1.0</td>\n",
       "      <td>3</td>\n",
       "      <td>2017-08-12</td>\n",
       "      <td>train</td>\n",
       "    </tr>\n",
       "  </tbody>\n",
       "</table>\n",
       "</div>"
      ],
      "text/plain": [
       "   小數float  整數intger     時間time 類別資料category\n",
       "0      1.0         3 2017-08-12         test\n",
       "1      1.0         3 2017-08-12        train\n",
       "2      1.0         3 2017-08-12         test\n",
       "3      1.0         3 2017-08-12        train"
      ]
     },
     "execution_count": 58,
     "metadata": {},
     "output_type": "execute_result"
    }
   ],
   "source": [
    "df2"
   ]
  },
  {
   "cell_type": "code",
   "execution_count": 59,
   "metadata": {
    "id": "mUHFR9g5JxS1"
   },
   "outputs": [
    {
     "name": "stdout",
     "output_type": "stream",
     "text": [
      "小數float                float32\n",
      "整數intger                 int32\n",
      "時間time          datetime64[ns]\n",
      "類別資料category          category\n",
      "dtype: object\n"
     ]
    }
   ],
   "source": [
    "print(df2.dtypes)"
   ]
  },
  {
   "cell_type": "code",
   "execution_count": 60,
   "metadata": {
    "id": "gY9woCISJxS4"
   },
   "outputs": [
    {
     "name": "stdout",
     "output_type": "stream",
     "text": [
      "Int64Index([0, 1, 2, 3], dtype='int64')\n"
     ]
    }
   ],
   "source": [
    "print(df2.index) #print(df2.columns), print(df2.values)"
   ]
  },
  {
   "cell_type": "code",
   "execution_count": 61,
   "metadata": {
    "id": "_K_G7GJLJxS6"
   },
   "outputs": [
    {
     "name": "stdout",
     "output_type": "stream",
     "text": [
      "       小數float  整數intger\n",
      "count      4.0       4.0\n",
      "mean       1.0       3.0\n",
      "std        0.0       0.0\n",
      "min        1.0       3.0\n",
      "25%        1.0       3.0\n",
      "50%        1.0       3.0\n",
      "75%        1.0       3.0\n",
      "max        1.0       3.0\n"
     ]
    }
   ],
   "source": [
    "print(df2.describe()) #有甚麼要注意的呢? Notice that..."
   ]
  },
  {
   "cell_type": "code",
   "execution_count": 62,
   "metadata": {
    "id": "1UH0LSCyJxS8"
   },
   "outputs": [
    {
     "data": {
      "text/html": [
       "<div>\n",
       "<style scoped>\n",
       "    .dataframe tbody tr th:only-of-type {\n",
       "        vertical-align: middle;\n",
       "    }\n",
       "\n",
       "    .dataframe tbody tr th {\n",
       "        vertical-align: top;\n",
       "    }\n",
       "\n",
       "    .dataframe thead th {\n",
       "        text-align: right;\n",
       "    }\n",
       "</style>\n",
       "<table border=\"1\" class=\"dataframe\">\n",
       "  <thead>\n",
       "    <tr style=\"text-align: right;\">\n",
       "      <th></th>\n",
       "      <th>0</th>\n",
       "      <th>1</th>\n",
       "      <th>2</th>\n",
       "      <th>3</th>\n",
       "    </tr>\n",
       "  </thead>\n",
       "  <tbody>\n",
       "    <tr>\n",
       "      <th>小數float</th>\n",
       "      <td>1</td>\n",
       "      <td>1</td>\n",
       "      <td>1</td>\n",
       "      <td>1</td>\n",
       "    </tr>\n",
       "    <tr>\n",
       "      <th>整數intger</th>\n",
       "      <td>3</td>\n",
       "      <td>3</td>\n",
       "      <td>3</td>\n",
       "      <td>3</td>\n",
       "    </tr>\n",
       "    <tr>\n",
       "      <th>時間time</th>\n",
       "      <td>2017-08-12 00:00:00</td>\n",
       "      <td>2017-08-12 00:00:00</td>\n",
       "      <td>2017-08-12 00:00:00</td>\n",
       "      <td>2017-08-12 00:00:00</td>\n",
       "    </tr>\n",
       "    <tr>\n",
       "      <th>類別資料category</th>\n",
       "      <td>test</td>\n",
       "      <td>train</td>\n",
       "      <td>test</td>\n",
       "      <td>train</td>\n",
       "    </tr>\n",
       "  </tbody>\n",
       "</table>\n",
       "</div>"
      ],
      "text/plain": [
       "                                0                    1                    2  \\\n",
       "小數float                         1                    1                    1   \n",
       "整數intger                        3                    3                    3   \n",
       "時間time        2017-08-12 00:00:00  2017-08-12 00:00:00  2017-08-12 00:00:00   \n",
       "類別資料category                 test                train                 test   \n",
       "\n",
       "                                3  \n",
       "小數float                         1  \n",
       "整數intger                        3  \n",
       "時間time        2017-08-12 00:00:00  \n",
       "類別資料category                train  "
      ]
     },
     "execution_count": 62,
     "metadata": {},
     "output_type": "execute_result"
    }
   ],
   "source": [
    "df2.T# 轉置"
   ]
  },
  {
   "cell_type": "code",
   "execution_count": 63,
   "metadata": {
    "id": "GfGGYmreJxTB"
   },
   "outputs": [
    {
     "data": {
      "text/html": [
       "<div>\n",
       "<style scoped>\n",
       "    .dataframe tbody tr th:only-of-type {\n",
       "        vertical-align: middle;\n",
       "    }\n",
       "\n",
       "    .dataframe tbody tr th {\n",
       "        vertical-align: top;\n",
       "    }\n",
       "\n",
       "    .dataframe thead th {\n",
       "        text-align: right;\n",
       "    }\n",
       "</style>\n",
       "<table border=\"1\" class=\"dataframe\">\n",
       "  <thead>\n",
       "    <tr style=\"text-align: right;\">\n",
       "      <th></th>\n",
       "      <th>小數float</th>\n",
       "      <th>整數intger</th>\n",
       "      <th>時間time</th>\n",
       "      <th>類別資料category</th>\n",
       "    </tr>\n",
       "  </thead>\n",
       "  <tbody>\n",
       "    <tr>\n",
       "      <th>3</th>\n",
       "      <td>1.0</td>\n",
       "      <td>3</td>\n",
       "      <td>2017-08-12</td>\n",
       "      <td>train</td>\n",
       "    </tr>\n",
       "    <tr>\n",
       "      <th>2</th>\n",
       "      <td>1.0</td>\n",
       "      <td>3</td>\n",
       "      <td>2017-08-12</td>\n",
       "      <td>test</td>\n",
       "    </tr>\n",
       "    <tr>\n",
       "      <th>1</th>\n",
       "      <td>1.0</td>\n",
       "      <td>3</td>\n",
       "      <td>2017-08-12</td>\n",
       "      <td>train</td>\n",
       "    </tr>\n",
       "    <tr>\n",
       "      <th>0</th>\n",
       "      <td>1.0</td>\n",
       "      <td>3</td>\n",
       "      <td>2017-08-12</td>\n",
       "      <td>test</td>\n",
       "    </tr>\n",
       "  </tbody>\n",
       "</table>\n",
       "</div>"
      ],
      "text/plain": [
       "   小數float  整數intger     時間time 類別資料category\n",
       "3      1.0         3 2017-08-12        train\n",
       "2      1.0         3 2017-08-12         test\n",
       "1      1.0         3 2017-08-12        train\n",
       "0      1.0         3 2017-08-12         test"
      ]
     },
     "execution_count": 63,
     "metadata": {},
     "output_type": "execute_result"
    }
   ],
   "source": [
    "df2.sort_index(axis=0, ascending=False)"
   ]
  },
  {
   "cell_type": "code",
   "execution_count": 64,
   "metadata": {
    "id": "nU-bUy6tJxTE"
   },
   "outputs": [
    {
     "data": {
      "text/html": [
       "<div>\n",
       "<style scoped>\n",
       "    .dataframe tbody tr th:only-of-type {\n",
       "        vertical-align: middle;\n",
       "    }\n",
       "\n",
       "    .dataframe tbody tr th {\n",
       "        vertical-align: top;\n",
       "    }\n",
       "\n",
       "    .dataframe thead th {\n",
       "        text-align: right;\n",
       "    }\n",
       "</style>\n",
       "<table border=\"1\" class=\"dataframe\">\n",
       "  <thead>\n",
       "    <tr style=\"text-align: right;\">\n",
       "      <th></th>\n",
       "      <th>小數float</th>\n",
       "      <th>整數intger</th>\n",
       "      <th>時間time</th>\n",
       "      <th>類別資料category</th>\n",
       "    </tr>\n",
       "  </thead>\n",
       "  <tbody>\n",
       "    <tr>\n",
       "      <th>0</th>\n",
       "      <td>1.0</td>\n",
       "      <td>3</td>\n",
       "      <td>2017-08-12</td>\n",
       "      <td>test</td>\n",
       "    </tr>\n",
       "    <tr>\n",
       "      <th>2</th>\n",
       "      <td>1.0</td>\n",
       "      <td>3</td>\n",
       "      <td>2017-08-12</td>\n",
       "      <td>test</td>\n",
       "    </tr>\n",
       "    <tr>\n",
       "      <th>1</th>\n",
       "      <td>1.0</td>\n",
       "      <td>3</td>\n",
       "      <td>2017-08-12</td>\n",
       "      <td>train</td>\n",
       "    </tr>\n",
       "    <tr>\n",
       "      <th>3</th>\n",
       "      <td>1.0</td>\n",
       "      <td>3</td>\n",
       "      <td>2017-08-12</td>\n",
       "      <td>train</td>\n",
       "    </tr>\n",
       "  </tbody>\n",
       "</table>\n",
       "</div>"
      ],
      "text/plain": [
       "   小數float  整數intger     時間time 類別資料category\n",
       "0      1.0         3 2017-08-12         test\n",
       "2      1.0         3 2017-08-12         test\n",
       "1      1.0         3 2017-08-12        train\n",
       "3      1.0         3 2017-08-12        train"
      ]
     },
     "execution_count": 64,
     "metadata": {},
     "output_type": "execute_result"
    }
   ],
   "source": [
    "df2.sort_values(by='類別資料category')"
   ]
  },
  {
   "cell_type": "markdown",
   "metadata": {},
   "source": [
    "##### Viewing and selecting data"
   ]
  },
  {
   "cell_type": "code",
   "execution_count": 65,
   "metadata": {
    "scrolled": true
   },
   "outputs": [
    {
     "data": {
      "text/html": [
       "<div>\n",
       "<style scoped>\n",
       "    .dataframe tbody tr th:only-of-type {\n",
       "        vertical-align: middle;\n",
       "    }\n",
       "\n",
       "    .dataframe tbody tr th {\n",
       "        vertical-align: top;\n",
       "    }\n",
       "\n",
       "    .dataframe thead th {\n",
       "        text-align: right;\n",
       "    }\n",
       "</style>\n",
       "<table border=\"1\" class=\"dataframe\">\n",
       "  <thead>\n",
       "    <tr style=\"text-align: right;\">\n",
       "      <th></th>\n",
       "      <th>Break</th>\n",
       "      <th>Lunch</th>\n",
       "      <th>Dinner</th>\n",
       "    </tr>\n",
       "  </thead>\n",
       "  <tbody>\n",
       "    <tr>\n",
       "      <th>2017-08-12</th>\n",
       "      <td>60</td>\n",
       "      <td>85</td>\n",
       "      <td>80</td>\n",
       "    </tr>\n",
       "    <tr>\n",
       "      <th>2017-08-13</th>\n",
       "      <td>60</td>\n",
       "      <td>75</td>\n",
       "      <td>85</td>\n",
       "    </tr>\n",
       "    <tr>\n",
       "      <th>2017-08-14</th>\n",
       "      <td>90</td>\n",
       "      <td>65</td>\n",
       "      <td>85</td>\n",
       "    </tr>\n",
       "    <tr>\n",
       "      <th>2017-08-15</th>\n",
       "      <td>90</td>\n",
       "      <td>80</td>\n",
       "      <td>60</td>\n",
       "    </tr>\n",
       "    <tr>\n",
       "      <th>2017-08-16</th>\n",
       "      <td>85</td>\n",
       "      <td>80</td>\n",
       "      <td>95</td>\n",
       "    </tr>\n",
       "    <tr>\n",
       "      <th>2017-08-17</th>\n",
       "      <td>85</td>\n",
       "      <td>95</td>\n",
       "      <td>85</td>\n",
       "    </tr>\n",
       "    <tr>\n",
       "      <th>2017-08-18</th>\n",
       "      <td>85</td>\n",
       "      <td>70</td>\n",
       "      <td>65</td>\n",
       "    </tr>\n",
       "  </tbody>\n",
       "</table>\n",
       "</div>"
      ],
      "text/plain": [
       "            Break  Lunch  Dinner\n",
       "2017-08-12     60     85      80\n",
       "2017-08-13     60     75      85\n",
       "2017-08-14     90     65      85\n",
       "2017-08-15     90     80      60\n",
       "2017-08-16     85     80      95\n",
       "2017-08-17     85     95      85\n",
       "2017-08-18     85     70      65"
      ]
     },
     "execution_count": 65,
     "metadata": {},
     "output_type": "execute_result"
    }
   ],
   "source": [
    "df1"
   ]
  },
  {
   "cell_type": "code",
   "execution_count": 66,
   "metadata": {},
   "outputs": [],
   "source": [
    "# View the top and bottom rows of a data frame:"
   ]
  },
  {
   "cell_type": "code",
   "execution_count": 67,
   "metadata": {},
   "outputs": [
    {
     "data": {
      "text/html": [
       "<div>\n",
       "<style scoped>\n",
       "    .dataframe tbody tr th:only-of-type {\n",
       "        vertical-align: middle;\n",
       "    }\n",
       "\n",
       "    .dataframe tbody tr th {\n",
       "        vertical-align: top;\n",
       "    }\n",
       "\n",
       "    .dataframe thead th {\n",
       "        text-align: right;\n",
       "    }\n",
       "</style>\n",
       "<table border=\"1\" class=\"dataframe\">\n",
       "  <thead>\n",
       "    <tr style=\"text-align: right;\">\n",
       "      <th></th>\n",
       "      <th>Break</th>\n",
       "      <th>Lunch</th>\n",
       "      <th>Dinner</th>\n",
       "    </tr>\n",
       "  </thead>\n",
       "  <tbody>\n",
       "    <tr>\n",
       "      <th>2017-08-12</th>\n",
       "      <td>60</td>\n",
       "      <td>85</td>\n",
       "      <td>80</td>\n",
       "    </tr>\n",
       "    <tr>\n",
       "      <th>2017-08-13</th>\n",
       "      <td>60</td>\n",
       "      <td>75</td>\n",
       "      <td>85</td>\n",
       "    </tr>\n",
       "    <tr>\n",
       "      <th>2017-08-14</th>\n",
       "      <td>90</td>\n",
       "      <td>65</td>\n",
       "      <td>85</td>\n",
       "    </tr>\n",
       "    <tr>\n",
       "      <th>2017-08-15</th>\n",
       "      <td>90</td>\n",
       "      <td>80</td>\n",
       "      <td>60</td>\n",
       "    </tr>\n",
       "    <tr>\n",
       "      <th>2017-08-16</th>\n",
       "      <td>85</td>\n",
       "      <td>80</td>\n",
       "      <td>95</td>\n",
       "    </tr>\n",
       "  </tbody>\n",
       "</table>\n",
       "</div>"
      ],
      "text/plain": [
       "            Break  Lunch  Dinner\n",
       "2017-08-12     60     85      80\n",
       "2017-08-13     60     75      85\n",
       "2017-08-14     90     65      85\n",
       "2017-08-15     90     80      60\n",
       "2017-08-16     85     80      95"
      ]
     },
     "execution_count": 67,
     "metadata": {},
     "output_type": "execute_result"
    }
   ],
   "source": [
    "df1.head()"
   ]
  },
  {
   "cell_type": "code",
   "execution_count": 68,
   "metadata": {},
   "outputs": [
    {
     "data": {
      "text/html": [
       "<div>\n",
       "<style scoped>\n",
       "    .dataframe tbody tr th:only-of-type {\n",
       "        vertical-align: middle;\n",
       "    }\n",
       "\n",
       "    .dataframe tbody tr th {\n",
       "        vertical-align: top;\n",
       "    }\n",
       "\n",
       "    .dataframe thead th {\n",
       "        text-align: right;\n",
       "    }\n",
       "</style>\n",
       "<table border=\"1\" class=\"dataframe\">\n",
       "  <thead>\n",
       "    <tr style=\"text-align: right;\">\n",
       "      <th></th>\n",
       "      <th>Break</th>\n",
       "      <th>Lunch</th>\n",
       "      <th>Dinner</th>\n",
       "    </tr>\n",
       "  </thead>\n",
       "  <tbody>\n",
       "    <tr>\n",
       "      <th>2017-08-16</th>\n",
       "      <td>85</td>\n",
       "      <td>80</td>\n",
       "      <td>95</td>\n",
       "    </tr>\n",
       "    <tr>\n",
       "      <th>2017-08-17</th>\n",
       "      <td>85</td>\n",
       "      <td>95</td>\n",
       "      <td>85</td>\n",
       "    </tr>\n",
       "    <tr>\n",
       "      <th>2017-08-18</th>\n",
       "      <td>85</td>\n",
       "      <td>70</td>\n",
       "      <td>65</td>\n",
       "    </tr>\n",
       "  </tbody>\n",
       "</table>\n",
       "</div>"
      ],
      "text/plain": [
       "            Break  Lunch  Dinner\n",
       "2017-08-16     85     80      95\n",
       "2017-08-17     85     95      85\n",
       "2017-08-18     85     70      65"
      ]
     },
     "execution_count": 68,
     "metadata": {},
     "output_type": "execute_result"
    }
   ],
   "source": [
    "df1.tail(3)"
   ]
  },
  {
   "cell_type": "markdown",
   "metadata": {
    "id": "8lq-14DVJxTJ"
   },
   "source": [
    "##### Complete list of Selection with examples:\n",
    "- Selecting a single column\n",
    "- Selection by label\n",
    "- Selection by position"
   ]
  },
  {
   "cell_type": "code",
   "execution_count": 69,
   "metadata": {
    "id": "RLvhiZFUJxTL"
   },
   "outputs": [
    {
     "data": {
      "text/html": [
       "<div>\n",
       "<style scoped>\n",
       "    .dataframe tbody tr th:only-of-type {\n",
       "        vertical-align: middle;\n",
       "    }\n",
       "\n",
       "    .dataframe tbody tr th {\n",
       "        vertical-align: top;\n",
       "    }\n",
       "\n",
       "    .dataframe thead th {\n",
       "        text-align: right;\n",
       "    }\n",
       "</style>\n",
       "<table border=\"1\" class=\"dataframe\">\n",
       "  <thead>\n",
       "    <tr style=\"text-align: right;\">\n",
       "      <th></th>\n",
       "      <th>Break</th>\n",
       "      <th>Lunch</th>\n",
       "      <th>Dinner</th>\n",
       "    </tr>\n",
       "  </thead>\n",
       "  <tbody>\n",
       "    <tr>\n",
       "      <th>2017-08-12</th>\n",
       "      <td>60</td>\n",
       "      <td>85</td>\n",
       "      <td>80</td>\n",
       "    </tr>\n",
       "    <tr>\n",
       "      <th>2017-08-13</th>\n",
       "      <td>60</td>\n",
       "      <td>75</td>\n",
       "      <td>85</td>\n",
       "    </tr>\n",
       "    <tr>\n",
       "      <th>2017-08-14</th>\n",
       "      <td>90</td>\n",
       "      <td>65</td>\n",
       "      <td>85</td>\n",
       "    </tr>\n",
       "    <tr>\n",
       "      <th>2017-08-15</th>\n",
       "      <td>90</td>\n",
       "      <td>80</td>\n",
       "      <td>60</td>\n",
       "    </tr>\n",
       "    <tr>\n",
       "      <th>2017-08-16</th>\n",
       "      <td>85</td>\n",
       "      <td>80</td>\n",
       "      <td>95</td>\n",
       "    </tr>\n",
       "    <tr>\n",
       "      <th>2017-08-17</th>\n",
       "      <td>85</td>\n",
       "      <td>95</td>\n",
       "      <td>85</td>\n",
       "    </tr>\n",
       "    <tr>\n",
       "      <th>2017-08-18</th>\n",
       "      <td>85</td>\n",
       "      <td>70</td>\n",
       "      <td>65</td>\n",
       "    </tr>\n",
       "  </tbody>\n",
       "</table>\n",
       "</div>"
      ],
      "text/plain": [
       "            Break  Lunch  Dinner\n",
       "2017-08-12     60     85      80\n",
       "2017-08-13     60     75      85\n",
       "2017-08-14     90     65      85\n",
       "2017-08-15     90     80      60\n",
       "2017-08-16     85     80      95\n",
       "2017-08-17     85     95      85\n",
       "2017-08-18     85     70      65"
      ]
     },
     "execution_count": 69,
     "metadata": {},
     "output_type": "execute_result"
    }
   ],
   "source": [
    "df1"
   ]
  },
  {
   "cell_type": "code",
   "execution_count": 74,
   "metadata": {
    "id": "qrRmQv7OJxTP"
   },
   "outputs": [
    {
     "data": {
      "text/html": [
       "<div>\n",
       "<style scoped>\n",
       "    .dataframe tbody tr th:only-of-type {\n",
       "        vertical-align: middle;\n",
       "    }\n",
       "\n",
       "    .dataframe tbody tr th {\n",
       "        vertical-align: top;\n",
       "    }\n",
       "\n",
       "    .dataframe thead th {\n",
       "        text-align: right;\n",
       "    }\n",
       "</style>\n",
       "<table border=\"1\" class=\"dataframe\">\n",
       "  <thead>\n",
       "    <tr style=\"text-align: right;\">\n",
       "      <th></th>\n",
       "      <th>Break</th>\n",
       "      <th>Dinner</th>\n",
       "    </tr>\n",
       "  </thead>\n",
       "  <tbody>\n",
       "    <tr>\n",
       "      <th>2017-08-12</th>\n",
       "      <td>60</td>\n",
       "      <td>80</td>\n",
       "    </tr>\n",
       "    <tr>\n",
       "      <th>2017-08-13</th>\n",
       "      <td>60</td>\n",
       "      <td>85</td>\n",
       "    </tr>\n",
       "    <tr>\n",
       "      <th>2017-08-14</th>\n",
       "      <td>90</td>\n",
       "      <td>85</td>\n",
       "    </tr>\n",
       "    <tr>\n",
       "      <th>2017-08-15</th>\n",
       "      <td>90</td>\n",
       "      <td>60</td>\n",
       "    </tr>\n",
       "    <tr>\n",
       "      <th>2017-08-16</th>\n",
       "      <td>85</td>\n",
       "      <td>95</td>\n",
       "    </tr>\n",
       "    <tr>\n",
       "      <th>2017-08-17</th>\n",
       "      <td>85</td>\n",
       "      <td>85</td>\n",
       "    </tr>\n",
       "    <tr>\n",
       "      <th>2017-08-18</th>\n",
       "      <td>85</td>\n",
       "      <td>65</td>\n",
       "    </tr>\n",
       "  </tbody>\n",
       "</table>\n",
       "</div>"
      ],
      "text/plain": [
       "            Break  Dinner\n",
       "2017-08-12     60      80\n",
       "2017-08-13     60      85\n",
       "2017-08-14     90      85\n",
       "2017-08-15     90      60\n",
       "2017-08-16     85      95\n",
       "2017-08-17     85      85\n",
       "2017-08-18     85      65"
      ]
     },
     "execution_count": 74,
     "metadata": {},
     "output_type": "execute_result"
    }
   ],
   "source": [
    "# Selecting breakfast\n",
    "df1[['Break','Dinner']] #dataframe"
   ]
  },
  {
   "cell_type": "code",
   "execution_count": 75,
   "metadata": {},
   "outputs": [
    {
     "data": {
      "text/plain": [
       "2017-08-12    60\n",
       "2017-08-13    60\n",
       "2017-08-14    90\n",
       "2017-08-15    90\n",
       "2017-08-16    85\n",
       "2017-08-17    85\n",
       "2017-08-18    85\n",
       "Freq: D, Name: Break, dtype: int64"
      ]
     },
     "execution_count": 75,
     "metadata": {},
     "output_type": "execute_result"
    }
   ],
   "source": [
    "df1['Break']#Series"
   ]
  },
  {
   "cell_type": "code",
   "execution_count": 77,
   "metadata": {},
   "outputs": [
    {
     "data": {
      "text/plain": [
       "2017-08-12    60\n",
       "2017-08-13    60\n",
       "2017-08-14    90\n",
       "Freq: D, Name: Break, dtype: int64"
      ]
     },
     "execution_count": 77,
     "metadata": {},
     "output_type": "execute_result"
    }
   ],
   "source": [
    "# Selecting the first three day\n",
    "df1[:3]['Break']"
   ]
  },
  {
   "cell_type": "code",
   "execution_count": 83,
   "metadata": {
    "id": "1ttCVrxxJxTU"
   },
   "outputs": [
    {
     "name": "stdout",
     "output_type": "stream",
     "text": [
      "Break     60\n",
      "Lunch     85\n",
      "Dinner    80\n",
      "Name: 2017-08-12 00:00:00, dtype: int64\n",
      "            Break  Lunch  Dinner\n",
      "2017-08-12     60     85      80\n",
      "2017-08-14     90     65      85\n",
      "            Break  Lunch\n",
      "2017-08-12     60     85\n",
      "2017-08-13     60     75\n",
      "2017-08-14     90     65\n",
      "2017-08-15     90     80\n",
      "2017-08-16     85     80\n",
      "2017-08-17     85     95\n",
      "2017-08-18     85     70\n"
     ]
    }
   ],
   "source": [
    "##### select by label ==>loc\n",
    "# Selecting one assiged day\n",
    "print(df1.loc['2017-08-12 '])\n",
    "\n",
    "# Selecting two assiged days\n",
    "print(df1.loc[['2017-08-12 ','2017-08-14']])\n",
    "\n",
    "# Selecting Breakfast and Lunch in all days\n",
    "print(df1.loc[:,['Break','Lunch']])"
   ]
  },
  {
   "cell_type": "code",
   "execution_count": 86,
   "metadata": {
    "id": "JG1a0aeIJxTX"
   },
   "outputs": [
    {
     "name": "stdout",
     "output_type": "stream",
     "text": [
      "80\n",
      "            Lunch  Dinner\n",
      "2017-08-15     80      60\n",
      "2017-08-16     80      95\n"
     ]
    }
   ],
   "source": [
    "#select by position ==>iloc[row,cplumns]\n",
    "print(df1.iloc[3,1])\n",
    "print(df1.iloc[3:5,1:3])"
   ]
  },
  {
   "cell_type": "markdown",
   "metadata": {},
   "source": [
    "##### How To Filter Pandas Dataframe By Values of Column?"
   ]
  },
  {
   "cell_type": "code",
   "execution_count": null,
   "metadata": {
    "id": "g8KzEBkrJxTf"
   },
   "outputs": [],
   "source": [
    "# Looking for days when the lunch bill exceeds 80\n",
    "df1.lunch>80"
   ]
  },
  {
   "cell_type": "code",
   "execution_count": null,
   "metadata": {},
   "outputs": [],
   "source": [
    "# Looking for days with two conditions\n"
   ]
  },
  {
   "cell_type": "code",
   "execution_count": null,
   "metadata": {
    "id": "vGcNsVKfJxTi"
   },
   "outputs": [],
   "source": [
    "# What is the following statments?\n",
    "\n",
    "df1.iloc[2,2] = 95\n",
    "df1.loc['20170818','Lunch'] = 60\n",
    "df1.dinner[df1.Break>80] = 40\n",
    "df1.loc['20170814','Break'] = np.nan\n",
    "\n",
    "print(df1)\n"
   ]
  },
  {
   "cell_type": "code",
   "execution_count": null,
   "metadata": {
    "id": "gGumwllDJxT3"
   },
   "outputs": [],
   "source": []
  },
  {
   "cell_type": "code",
   "execution_count": null,
   "metadata": {},
   "outputs": [],
   "source": [
    "# what is where\n",
    "df1._____(df1>80)"
   ]
  },
  {
   "cell_type": "code",
   "execution_count": null,
   "metadata": {
    "id": "14o7NE6_JxUV"
   },
   "outputs": [],
   "source": []
  },
  {
   "cell_type": "code",
   "execution_count": null,
   "metadata": {},
   "outputs": [],
   "source": []
  }
 ],
 "metadata": {
  "colab": {
   "collapsed_sections": [],
   "name": "【Week06】Data Science basics (1) NumpyPandas.ipynb",
   "provenance": []
  },
  "kernelspec": {
   "display_name": "Python 3",
   "language": "python",
   "name": "python3"
  },
  "language_info": {
   "codemirror_mode": {
    "name": "ipython",
    "version": 3
   },
   "file_extension": ".py",
   "mimetype": "text/x-python",
   "name": "python",
   "nbconvert_exporter": "python",
   "pygments_lexer": "ipython3",
   "version": "3.8.4"
  }
 },
 "nbformat": 4,
 "nbformat_minor": 1
}
