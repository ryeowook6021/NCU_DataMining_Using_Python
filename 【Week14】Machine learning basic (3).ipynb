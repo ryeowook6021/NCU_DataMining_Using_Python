{
 "cells": [
  {
   "cell_type": "markdown",
   "metadata": {},
   "source": [
    "# Machine Learning\n",
    "- Machine Learning is making the computer learn from studying data and statistics.\n",
    "- Machine Learning is a program that analyses data and learns to predict the outcome.\n",
    "\n",
    "##### What are supervised and unsupervised learning\n",
    "![](https://miro.medium.com/max/3600/0*p3zNp9D8YFmX32am.jpg)\n",
    "\n",
    "##### What are supervised and unsupervised learning\n",
    "![](https://www.researchgate.net/profile/Rory_Bunker/publication/319937079/figure/fig1/AS:542578279366656@1506372150206/Supervised-Learning-versus-Unsupervised-Learning-Mathworks-nd.png)\n",
    "\n",
    "\n",
    "##### Differences Between Supervised Learning and Unsupervised Learning\n",
    "![](https://cdn-images-1.medium.com/max/800/1*zWBYt9DQQEf_XxXWLA2tzQ.jpeg)\n",
    "- supervised\n",
    " - Given a sample of data and desired outputs, best approximates the relationship between input and output observable in the data.\n",
    "- unsupervised\n",
    " - Does not have labeled outputs, so its goal is to infer the natural structure present within a set of data points.\n",
    "\n",
    "\n",
    "for more information:\n",
    "http://www.differencebetween.net/technology/differences-between-supervised-learning-and-unsupervised-learning/"
   ]
  },
  {
   "cell_type": "markdown",
   "metadata": {},
   "source": [
    "# Training Machine Learning Algorithms for Classification"
   ]
  },
  {
   "cell_type": "markdown",
   "metadata": {},
   "source": [
    "### Machine Learning Workflow\n",
    "![ML Workflow](https://static.coderbridge.com/img/happycoder/images/data-science101/scikit-learn/ml-workflow1.jpg)"
   ]
  },
  {
   "cell_type": "markdown",
   "metadata": {},
   "source": [
    "# Linear Regression: Predicting Continuous Target Variables with Regression Analysis"
   ]
  },
  {
   "cell_type": "markdown",
   "metadata": {},
   "source": [
    "###  Assignment: Predicting Continuous Target Variables with Regression Analysis\n",
    "- The term regression is used when you try to find the relationship between variables.\n",
    "- In Machine Learning, and in statistical modeling, that relationship is used to predict the outcome of future events.\n",
    "- Linear regression uses the relationship between the data-points to draw a straight line through all them. The line can be used to predict future values.\n",
    "\n"
   ]
  },
  {
   "cell_type": "code",
   "execution_count": 1,
   "metadata": {},
   "outputs": [],
   "source": [
    "# y = 1 * x0 + 3 * x1 + 5"
   ]
  },
  {
   "cell_type": "code",
   "execution_count": 2,
   "metadata": {},
   "outputs": [],
   "source": [
    "import numpy as np\n",
    "from sklearn.linear_model import LinearRegression\n",
    "X = np.array([[1, 1], [1, 2], [2, 2], [2, 3]])\n",
    "y = np.array([ 9, 16, 10, 20])"
   ]
  },
  {
   "cell_type": "code",
   "execution_count": 4,
   "metadata": {},
   "outputs": [
    {
     "name": "stdout",
     "output_type": "stream",
     "text": [
      "[ 9 16 10 20]\n",
      "[ 8.25 16.75 10.75 19.25]\n"
     ]
    }
   ],
   "source": [
    "# (1) build/name a model\n",
    "lr = LinearRegression()\n",
    "# (2) train the model using(X,y)\n",
    "lr.fit(X, y)\n",
    "# (3) use the model to predict\n",
    "y_pred = lr.predict(X)\n",
    "print(y)\n",
    "print(y_pred)"
   ]
  },
  {
   "cell_type": "code",
   "execution_count": 5,
   "metadata": {},
   "outputs": [
    {
     "name": "stdout",
     "output_type": "stream",
     "text": [
      "[-6.   8.5]\n",
      "5.75\n"
     ]
    }
   ],
   "source": [
    "print(lr.coef_)\n",
    "print(lr.intercept_)"
   ]
  },
  {
   "cell_type": "markdown",
   "metadata": {},
   "source": [
    "##### R-Squared\n",
    "- It is important to know how well the relationship between the values of the x- and y-axis is.\n",
    "- The relationship is measured with a value called the r-squared.\n",
    "- The r-squared value ranges from 0 to 1, where 0 means no relationship, and 1 means 100% related.\n",
    "- Python and the Sklearn module will compute this value for you, all you have to do is feed it with the x and y arrays:"
   ]
  },
  {
   "cell_type": "code",
   "execution_count": 7,
   "metadata": {},
   "outputs": [
    {
     "name": "stdout",
     "output_type": "stream",
     "text": [
      "0.5625000000000013\n",
      "0.9721362229102166\n",
      "0.9164086687306499\n"
     ]
    }
   ],
   "source": [
    "# Return the coefficient of determination of the prediction.\n",
    "# R-Squared\n",
    "# 模型績效 mse R2\n",
    "mse = np.mean((lr.predict(X)-y)**2)\n",
    "r_squared = lr.score(X,y)\n",
    "adj_r_squared = r_squared-(1-r_squared)*(X.shape[1]/(X.shape[0]-X.shape[1]-1))\n",
    "\n",
    "# 印出模型績效\n",
    "print(mse)\n",
    "print(r_squared)\n",
    "print(adj_r_squared)"
   ]
  },
  {
   "cell_type": "code",
   "execution_count": 8,
   "metadata": {},
   "outputs": [
    {
     "data": {
      "text/plain": [
       "0.5625000000000013"
      ]
     },
     "execution_count": 8,
     "metadata": {},
     "output_type": "execute_result"
    }
   ],
   "source": [
    "from sklearn.metrics import mean_squared_error\n",
    "mean_squared_error(y,y_pred)"
   ]
  },
  {
   "cell_type": "markdown",
   "metadata": {},
   "source": [
    "##### EX: Boston House Price "
   ]
  },
  {
   "cell_type": "code",
   "execution_count": 9,
   "metadata": {},
   "outputs": [],
   "source": [
    "# \n",
    "from sklearn import datasets\n",
    "from sklearn.linear_model import LinearRegression\n",
    "import matplotlib.pyplot as plt"
   ]
  },
  {
   "cell_type": "code",
   "execution_count": 10,
   "metadata": {},
   "outputs": [],
   "source": [
    "boston = datasets.load_boston()\n",
    "X = boston.data# feature\n",
    "y = boston.target# label"
   ]
  },
  {
   "cell_type": "code",
   "execution_count": 11,
   "metadata": {},
   "outputs": [
    {
     "data": {
      "text/plain": [
       "array(['CRIM', 'ZN', 'INDUS', 'CHAS', 'NOX', 'RM', 'AGE', 'DIS', 'RAD',\n",
       "       'TAX', 'PTRATIO', 'B', 'LSTAT'], dtype='<U7')"
      ]
     },
     "execution_count": 11,
     "metadata": {},
     "output_type": "execute_result"
    }
   ],
   "source": [
    "boston.feature_names"
   ]
  },
  {
   "cell_type": "code",
   "execution_count": 15,
   "metadata": {},
   "outputs": [
    {
     "data": {
      "text/plain": [
       "LinearRegression()"
      ]
     },
     "execution_count": 15,
     "metadata": {},
     "output_type": "execute_result"
    }
   ],
   "source": [
    "# 建立模型model => 訓練.fit() => 測試.predict()\n",
    "# (1)\n",
    "model = LinearRegression()\n",
    "# (2)\n",
    "model.fit(X, y) # 訓練 "
   ]
  },
  {
   "cell_type": "code",
   "execution_count": 16,
   "metadata": {},
   "outputs": [],
   "source": [
    "# (3)\n",
    "predicted = model.predict(X) #預測"
   ]
  },
  {
   "cell_type": "code",
   "execution_count": 17,
   "metadata": {},
   "outputs": [
    {
     "name": "stdout",
     "output_type": "stream",
     "text": [
      "[30.00384338 25.02556238 30.56759672 28.60703649]\n",
      "[24.  21.6 34.7 33.4]\n"
     ]
    }
   ],
   "source": [
    "# evaluate\n",
    "print(model.predict(X[:4, :]))\n",
    "print(y[:4])"
   ]
  },
  {
   "cell_type": "code",
   "execution_count": 18,
   "metadata": {},
   "outputs": [
    {
     "name": "stdout",
     "output_type": "stream",
     "text": [
      "0.7406426641094095\n"
     ]
    }
   ],
   "source": [
    "print(model.score(X, y))"
   ]
  },
  {
   "cell_type": "code",
   "execution_count": 19,
   "metadata": {},
   "outputs": [
    {
     "name": "stdout",
     "output_type": "stream",
     "text": [
      "[-1.08011358e-01  4.64204584e-02  2.05586264e-02  2.68673382e+00\n",
      " -1.77666112e+01  3.80986521e+00  6.92224640e-04 -1.47556685e+00\n",
      "  3.06049479e-01 -1.23345939e-02 -9.52747232e-01  9.31168327e-03\n",
      " -5.24758378e-01]\n",
      "36.459488385090125\n"
     ]
    }
   ],
   "source": [
    "print(model.coef_)\n",
    "print(model.intercept_)"
   ]
  },
  {
   "cell_type": "code",
   "execution_count": 21,
   "metadata": {},
   "outputs": [
    {
     "data": {
      "image/png": "[encoded data removed]",
      "text/plain": [
       "<Figure size 432x288 with 1 Axes>"
      ]
     },
     "metadata": {
      "needs_background": "light"
     },
     "output_type": "display_data"
    }
   ],
   "source": [
    "# data visualization\n",
    "plt.scatter(y,predicted)\n",
    "plt.show()"
   ]
  },
  {
   "cell_type": "code",
   "execution_count": null,
   "metadata": {},
   "outputs": [],
   "source": []
  },
  {
   "cell_type": "code",
   "execution_count": null,
   "metadata": {},
   "outputs": [],
   "source": []
  }
 ],
 "metadata": {
  "kernelspec": {
   "display_name": "Python 3",
   "language": "python",
   "name": "python3"
  },
  "language_info": {
   "codemirror_mode": {
    "name": "ipython",
    "version": 3
   },
   "file_extension": ".py",
   "mimetype": "text/x-python",
   "name": "python",
   "nbconvert_exporter": "python",
   "pygments_lexer": "ipython3",
   "version": "3.8.4"
  }
 },
 "nbformat": 4,
 "nbformat_minor": 2
}
